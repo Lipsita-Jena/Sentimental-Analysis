{
 "cells": [
  {
   "cell_type": "markdown",
   "id": "153447a9-08ad-42e6-b661-bbd02faa7b74",
   "metadata": {},
   "source": [
    "# Creating a Dictionary-based Sentiment Analyzer"
   ]
  },
  {
   "cell_type": "code",
   "execution_count": 49,
   "id": "fef5d5d6-abbd-41ce-bbb0-2796f0255890",
   "metadata": {},
   "outputs": [],
   "source": [
    "import pandas as pd\n",
    "import nltk\n",
    "from IPython.display import display\n",
    "pd.set_option('display.max_columns', None)"
   ]
  },
  {
   "cell_type": "markdown",
   "id": "964d6791-202f-40b2-ae7a-a98e44461abe",
   "metadata": {},
   "source": [
    "#### Step 1: Loading in the small_corpus .csv file created in the \"creating_dataset\" milestone."
   ]
  },
  {
   "cell_type": "code",
   "execution_count": 17,
   "id": "6ed5278b-94d0-46cf-9396-e5a8f039a6f3",
   "metadata": {},
   "outputs": [
    {
     "data": {
      "text/html": [
       "<div>\n",
       "<style scoped>\n",
       "    .dataframe tbody tr th:only-of-type {\n",
       "        vertical-align: middle;\n",
       "    }\n",
       "\n",
       "    .dataframe tbody tr th {\n",
       "        vertical-align: top;\n",
       "    }\n",
       "\n",
       "    .dataframe thead th {\n",
       "        text-align: right;\n",
       "    }\n",
       "</style>\n",
       "<table border=\"1\" class=\"dataframe\">\n",
       "  <thead>\n",
       "    <tr style=\"text-align: right;\">\n",
       "      <th></th>\n",
       "      <th>Unnamed: 0</th>\n",
       "      <th>reviewerName</th>\n",
       "      <th>overall</th>\n",
       "      <th>reviewText</th>\n",
       "      <th>reviewTime</th>\n",
       "      <th>day_diff</th>\n",
       "      <th>helpful_yes</th>\n",
       "      <th>helpful_no</th>\n",
       "      <th>total_vote</th>\n",
       "      <th>score_pos_neg_diff</th>\n",
       "      <th>score_average_rating</th>\n",
       "      <th>wilson_lower_bound</th>\n",
       "    </tr>\n",
       "  </thead>\n",
       "  <tbody>\n",
       "    <tr>\n",
       "      <th>0</th>\n",
       "      <td>0</td>\n",
       "      <td>NaN</td>\n",
       "      <td>4</td>\n",
       "      <td>No issues.</td>\n",
       "      <td>23-07-2014</td>\n",
       "      <td>138</td>\n",
       "      <td>0</td>\n",
       "      <td>0</td>\n",
       "      <td>0</td>\n",
       "      <td>0</td>\n",
       "      <td>0.0</td>\n",
       "      <td>0.0</td>\n",
       "    </tr>\n",
       "    <tr>\n",
       "      <th>1</th>\n",
       "      <td>1</td>\n",
       "      <td>0mie</td>\n",
       "      <td>5</td>\n",
       "      <td>Purchased this for my device, it worked as advertised. You can never have too much phone memory, since I download a lot of stuff this was a no brainer for me.</td>\n",
       "      <td>25-10-2013</td>\n",
       "      <td>409</td>\n",
       "      <td>0</td>\n",
       "      <td>0</td>\n",
       "      <td>0</td>\n",
       "      <td>0</td>\n",
       "      <td>0.0</td>\n",
       "      <td>0.0</td>\n",
       "    </tr>\n",
       "    <tr>\n",
       "      <th>2</th>\n",
       "      <td>2</td>\n",
       "      <td>1K3</td>\n",
       "      <td>4</td>\n",
       "      <td>it works as expected. I should have sprung for the higher capacity.  I think its made a bit cheesier than the earlier versions; the paint looks not as clean as before</td>\n",
       "      <td>23-12-2012</td>\n",
       "      <td>715</td>\n",
       "      <td>0</td>\n",
       "      <td>0</td>\n",
       "      <td>0</td>\n",
       "      <td>0</td>\n",
       "      <td>0.0</td>\n",
       "      <td>0.0</td>\n",
       "    </tr>\n",
       "    <tr>\n",
       "      <th>3</th>\n",
       "      <td>3</td>\n",
       "      <td>1m2</td>\n",
       "      <td>5</td>\n",
       "      <td>This think has worked out great.Had a diff. bran 64gb card and if went south after 3 months.This one has held up pretty well since I had my S3, now on my Note3.*** update 3/21/14I've had this for a few months and have had ZERO issue's since it was transferred from my S3 to my Note3 and into a note2. This card is reliable and solid!Cheers!</td>\n",
       "      <td>21-11-2013</td>\n",
       "      <td>382</td>\n",
       "      <td>0</td>\n",
       "      <td>0</td>\n",
       "      <td>0</td>\n",
       "      <td>0</td>\n",
       "      <td>0.0</td>\n",
       "      <td>0.0</td>\n",
       "    </tr>\n",
       "    <tr>\n",
       "      <th>4</th>\n",
       "      <td>4</td>\n",
       "      <td>2&amp;amp;1/2Men</td>\n",
       "      <td>5</td>\n",
       "      <td>Bought it with Retail Packaging, arrived legit, in a orange envelope, english version not asian like the picture shows. arrived quickly, bought a 32 and 16 both retail packaging for my htc one sv and Lg Optimus, both cards in working order, probably best price you'll get for a nice sd card</td>\n",
       "      <td>13-07-2013</td>\n",
       "      <td>513</td>\n",
       "      <td>0</td>\n",
       "      <td>0</td>\n",
       "      <td>0</td>\n",
       "      <td>0</td>\n",
       "      <td>0.0</td>\n",
       "      <td>0.0</td>\n",
       "    </tr>\n",
       "  </tbody>\n",
       "</table>\n",
       "</div>"
      ],
      "text/plain": [
       "   Unnamed: 0  reviewerName  overall  \\\n",
       "0           0           NaN        4   \n",
       "1           1          0mie        5   \n",
       "2           2           1K3        4   \n",
       "3           3           1m2        5   \n",
       "4           4  2&amp;1/2Men        5   \n",
       "\n",
       "                                                                                                                                                                                                                                                                                                                                             reviewText  \\\n",
       "0                                                                                                                                                                                                                                                                                                                                            No issues.   \n",
       "1                                                                                                                                                                                        Purchased this for my device, it worked as advertised. You can never have too much phone memory, since I download a lot of stuff this was a no brainer for me.   \n",
       "2                                                                                                                                                                                it works as expected. I should have sprung for the higher capacity.  I think its made a bit cheesier than the earlier versions; the paint looks not as clean as before   \n",
       "3  This think has worked out great.Had a diff. bran 64gb card and if went south after 3 months.This one has held up pretty well since I had my S3, now on my Note3.*** update 3/21/14I've had this for a few months and have had ZERO issue's since it was transferred from my S3 to my Note3 and into a note2. This card is reliable and solid!Cheers!   \n",
       "4                                                    Bought it with Retail Packaging, arrived legit, in a orange envelope, english version not asian like the picture shows. arrived quickly, bought a 32 and 16 both retail packaging for my htc one sv and Lg Optimus, both cards in working order, probably best price you'll get for a nice sd card   \n",
       "\n",
       "   reviewTime  day_diff  helpful_yes  helpful_no  total_vote  \\\n",
       "0  23-07-2014       138            0           0           0   \n",
       "1  25-10-2013       409            0           0           0   \n",
       "2  23-12-2012       715            0           0           0   \n",
       "3  21-11-2013       382            0           0           0   \n",
       "4  13-07-2013       513            0           0           0   \n",
       "\n",
       "   score_pos_neg_diff  score_average_rating  wilson_lower_bound  \n",
       "0                   0                   0.0                 0.0  \n",
       "1                   0                   0.0                 0.0  \n",
       "2                   0                   0.0                 0.0  \n",
       "3                   0                   0.0                 0.0  \n",
       "4                   0                   0.0                 0.0  "
      ]
     },
     "execution_count": 17,
     "metadata": {},
     "output_type": "execute_result"
    }
   ],
   "source": [
    "reviews = pd.read_csv('amazon.csv')\n",
    "reviews.head(5)"
   ]
  },
  {
   "cell_type": "markdown",
   "id": "ac67ff9f-9656-4c0b-a711-ecf16184d592",
   "metadata": {},
   "source": [
    "#### Step 2: Tokenizing the sentences and words of the reviews\n",
    "\n",
    "In Python tokenization basically refers to splitting up a larger body of text into smaller lines, words or even creating words for a non-English language.\n",
    "\n",
    "Here, We're going to test different versions of word tokenizer on reviews. We'll then decide which tokenizer might be better to use."
   ]
  },
  {
   "cell_type": "markdown",
   "id": "6a28581f-738c-4fd0-99e2-c253ff3474e5",
   "metadata": {},
   "source": [
    "### 1. Treebank Word Tokenizer"
   ]
  },
  {
   "cell_type": "markdown",
   "id": "bde921c9-dd1f-4151-ad8f-75c1050c81ae",
   "metadata": {},
   "source": [
    "Topics to be covered\n",
    "1. TreeBankWordTokenizer in NLP\n",
    "2. Peen TreeBank"
   ]
  },
  {
   "cell_type": "code",
   "execution_count": 18,
   "id": "b735e597-5647-45c3-b3a6-2119688cf006",
   "metadata": {},
   "outputs": [],
   "source": [
    "from nltk.tokenize import TreebankWordTokenizer\n",
    "from string import punctuation\n",
    "import string"
   ]
  },
  {
   "cell_type": "code",
   "execution_count": 19,
   "id": "a60f5fc9-6c63-4dcd-b335-500caddba047",
   "metadata": {},
   "outputs": [],
   "source": [
    "tb_tokenizer = TreebankWordTokenizer()"
   ]
  },
  {
   "cell_type": "markdown",
   "id": "1fdab0d3-27ab-4187-aebd-c51332bbbd9b",
   "metadata": {},
   "source": [
    "Here first we are converting the reviewText to string, Second we are removing the punctuation, Third replacing the new line character to space \n",
    ",Fourth converting all the words to lowerCase."
   ]
  },
  {
   "cell_type": "code",
   "execution_count": 20,
   "id": "41cf704d-ffc7-4fec-8c48-24442792974f",
   "metadata": {},
   "outputs": [],
   "source": [
    "reviews[\"rev_text_lower\"] = reviews['reviewText'].apply(lambda rev: str(rev)\\\n",
    "                                                        .translate(str.maketrans('', '', punctuation))\\\n",
    "                                                        .replace(\"<br />\", \" \")\\\n",
    "                                                        .lower())"
   ]
  },
  {
   "cell_type": "code",
   "execution_count": 21,
   "id": "b7588efe-5f83-43c9-a189-16bcff571fb7",
   "metadata": {},
   "outputs": [
    {
     "data": {
      "text/html": [
       "<div>\n",
       "<style scoped>\n",
       "    .dataframe tbody tr th:only-of-type {\n",
       "        vertical-align: middle;\n",
       "    }\n",
       "\n",
       "    .dataframe tbody tr th {\n",
       "        vertical-align: top;\n",
       "    }\n",
       "\n",
       "    .dataframe thead th {\n",
       "        text-align: right;\n",
       "    }\n",
       "</style>\n",
       "<table border=\"1\" class=\"dataframe\">\n",
       "  <thead>\n",
       "    <tr style=\"text-align: right;\">\n",
       "      <th></th>\n",
       "      <th>reviewText</th>\n",
       "      <th>rev_text_lower</th>\n",
       "    </tr>\n",
       "  </thead>\n",
       "  <tbody>\n",
       "    <tr>\n",
       "      <th>4804</th>\n",
       "      <td>The micro card also comes with an adaptor to allow use as a SD card.  I used it to increase memory in a cell phone and it worked perfectly.</td>\n",
       "      <td>the micro card also comes with an adaptor to allow use as a sd card  i used it to increase memory in a cell phone and it worked perfectly</td>\n",
       "    </tr>\n",
       "    <tr>\n",
       "      <th>4725</th>\n",
       "      <td>What you buy this for is in there. 32 gb fast writing speed etc. happy with product. no issues yet</td>\n",
       "      <td>what you buy this for is in there 32 gb fast writing speed etc happy with product no issues yet</td>\n",
       "    </tr>\n",
       "  </tbody>\n",
       "</table>\n",
       "</div>"
      ],
      "text/plain": [
       "                                                                                                                                       reviewText  \\\n",
       "4804  The micro card also comes with an adaptor to allow use as a SD card.  I used it to increase memory in a cell phone and it worked perfectly.   \n",
       "4725                                           What you buy this for is in there. 32 gb fast writing speed etc. happy with product. no issues yet   \n",
       "\n",
       "                                                                                                                                 rev_text_lower  \n",
       "4804  the micro card also comes with an adaptor to allow use as a sd card  i used it to increase memory in a cell phone and it worked perfectly  \n",
       "4725                                            what you buy this for is in there 32 gb fast writing speed etc happy with product no issues yet  "
      ]
     },
     "execution_count": 21,
     "metadata": {},
     "output_type": "execute_result"
    }
   ],
   "source": [
    "reviews[['reviewText','rev_text_lower']].sample(2)"
   ]
  },
  {
   "cell_type": "markdown",
   "id": "80d85ca4-02da-462f-9be2-e53d8122fed5",
   "metadata": {},
   "source": [
    "The Treebank tokenizer uses regular expressions to tokenize text as in Penn Treebank. This is the method that is invoked by word_tokenize(). It assumes that the text has already been segmented into sentences, e.g. using sent_tokenize()"
   ]
  },
  {
   "cell_type": "code",
   "execution_count": 22,
   "id": "ead6a344-bc43-4829-8bd8-a4af0f95c3bd",
   "metadata": {},
   "outputs": [],
   "source": [
    "reviews[\"tb_tokens\"] = reviews['rev_text_lower'].apply(lambda rev: tb_tokenizer.tokenize(str(rev)))"
   ]
  },
  {
   "cell_type": "code",
   "execution_count": 23,
   "id": "e23ebe05-a1ae-4aa3-a8a8-45114a7c41ea",
   "metadata": {},
   "outputs": [],
   "source": [
    "pd.set_option('display.max_colwidth', None)"
   ]
  },
  {
   "cell_type": "code",
   "execution_count": 24,
   "id": "471c7843-3285-4d7e-849b-86281c16a0bf",
   "metadata": {},
   "outputs": [
    {
     "data": {
      "text/html": [
       "<div>\n",
       "<style scoped>\n",
       "    .dataframe tbody tr th:only-of-type {\n",
       "        vertical-align: middle;\n",
       "    }\n",
       "\n",
       "    .dataframe tbody tr th {\n",
       "        vertical-align: top;\n",
       "    }\n",
       "\n",
       "    .dataframe thead th {\n",
       "        text-align: right;\n",
       "    }\n",
       "</style>\n",
       "<table border=\"1\" class=\"dataframe\">\n",
       "  <thead>\n",
       "    <tr style=\"text-align: right;\">\n",
       "      <th></th>\n",
       "      <th>reviewText</th>\n",
       "      <th>tb_tokens</th>\n",
       "    </tr>\n",
       "  </thead>\n",
       "  <tbody>\n",
       "    <tr>\n",
       "      <th>2841</th>\n",
       "      <td>The card seems fast and it's a huge amount of storage for the price. It has worked flawlessly for a few months in a range of smartphones and cameras.</td>\n",
       "      <td>[the, card, seems, fast, and, its, a, huge, amount, of, storage, for, the, price, it, has, worked, flawlessly, for, a, few, months, in, a, range, of, smartphones, and, cameras]</td>\n",
       "    </tr>\n",
       "    <tr>\n",
       "      <th>1532</th>\n",
       "      <td>This is a very good microSD memory, i use it in an Android 4.0 phone, it sees 29.71 GB of space. It was recognize immediately by the phone and it does not freeze when i'm playing a videogame (like Asphalt 7). The design is very cool too. I like its speed. I would recommend this memory to any smartphone user.</td>\n",
       "      <td>[this, is, a, very, good, microsd, memory, i, use, it, in, an, android, 40, phone, it, sees, 2971, gb, of, space, it, was, recognize, immediately, by, the, phone, and, it, does, not, freeze, when, im, playing, a, videogame, like, asphalt, 7, the, design, is, very, cool, too, i, like, its, speed, i, would, recommend, this, memory, to, any, smartphone, user]</td>\n",
       "    </tr>\n",
       "    <tr>\n",
       "      <th>2626</th>\n",
       "      <td>works great with my samsung galaxy note 2.  just stuck it in and it worked. no formatting needed.  very fast which and no loss of camera speed</td>\n",
       "      <td>[works, great, with, my, samsung, galaxy, note, 2, just, stuck, it, in, and, it, worked, no, formatting, needed, very, fast, which, and, no, loss, of, camera, speed]</td>\n",
       "    </tr>\n",
       "  </tbody>\n",
       "</table>\n",
       "</div>"
      ],
      "text/plain": [
       "                                                                                                                                                                                                                                                                                                                 reviewText  \\\n",
       "2841                                                                                                                                                                  The card seems fast and it's a huge amount of storage for the price. It has worked flawlessly for a few months in a range of smartphones and cameras.   \n",
       "1532  This is a very good microSD memory, i use it in an Android 4.0 phone, it sees 29.71 GB of space. It was recognize immediately by the phone and it does not freeze when i'm playing a videogame (like Asphalt 7). The design is very cool too. I like its speed. I would recommend this memory to any smartphone user.   \n",
       "2626                                                                                                                                                                         works great with my samsung galaxy note 2.  just stuck it in and it worked. no formatting needed.  very fast which and no loss of camera speed   \n",
       "\n",
       "                                                                                                                                                                                                                                                                                                                                                                   tb_tokens  \n",
       "2841                                                                                                                                                                                        [the, card, seems, fast, and, its, a, huge, amount, of, storage, for, the, price, it, has, worked, flawlessly, for, a, few, months, in, a, range, of, smartphones, and, cameras]  \n",
       "1532  [this, is, a, very, good, microsd, memory, i, use, it, in, an, android, 40, phone, it, sees, 2971, gb, of, space, it, was, recognize, immediately, by, the, phone, and, it, does, not, freeze, when, im, playing, a, videogame, like, asphalt, 7, the, design, is, very, cool, too, i, like, its, speed, i, would, recommend, this, memory, to, any, smartphone, user]  \n",
       "2626                                                                                                                                                                                                   [works, great, with, my, samsung, galaxy, note, 2, just, stuck, it, in, and, it, worked, no, formatting, needed, very, fast, which, and, no, loss, of, camera, speed]  "
      ]
     },
     "execution_count": 24,
     "metadata": {},
     "output_type": "execute_result"
    }
   ],
   "source": [
    "reviews[['reviewText','tb_tokens']].sample(3)"
   ]
  },
  {
   "cell_type": "markdown",
   "id": "1b02252d-0116-48c6-b794-b3d97861dc92",
   "metadata": {},
   "source": [
    "### Casual Tokenizer"
   ]
  },
  {
   "cell_type": "code",
   "execution_count": 25,
   "id": "2aad1cd6-5218-43f3-a0e4-d5f698b7145d",
   "metadata": {},
   "outputs": [],
   "source": [
    "from nltk.tokenize.casual import casual_tokenize"
   ]
  },
  {
   "cell_type": "code",
   "execution_count": 26,
   "id": "0730f80e-68d4-4fa0-a679-1776e019a7b7",
   "metadata": {},
   "outputs": [],
   "source": [
    "reviews['casual_tokens'] = reviews['rev_text_lower'].apply(lambda rev: casual_tokenize(str(rev)))"
   ]
  },
  {
   "cell_type": "code",
   "execution_count": 27,
   "id": "d59eeb3c-05f9-4efc-80f8-3382489086a0",
   "metadata": {},
   "outputs": [
    {
     "data": {
      "text/html": [
       "<div>\n",
       "<style scoped>\n",
       "    .dataframe tbody tr th:only-of-type {\n",
       "        vertical-align: middle;\n",
       "    }\n",
       "\n",
       "    .dataframe tbody tr th {\n",
       "        vertical-align: top;\n",
       "    }\n",
       "\n",
       "    .dataframe thead th {\n",
       "        text-align: right;\n",
       "    }\n",
       "</style>\n",
       "<table border=\"1\" class=\"dataframe\">\n",
       "  <thead>\n",
       "    <tr style=\"text-align: right;\">\n",
       "      <th></th>\n",
       "      <th>reviewText</th>\n",
       "      <th>casual_tokens</th>\n",
       "      <th>tb_tokens</th>\n",
       "    </tr>\n",
       "  </thead>\n",
       "  <tbody>\n",
       "    <tr>\n",
       "      <th>2997</th>\n",
       "      <td>Great price delivered to my front door what more could you ask for. Access speeds are quick enough for my phone (note 3), have had no issues thus far.</td>\n",
       "      <td>[great, price, delivered, to, my, front, door, what, more, could, you, ask, for, access, speeds, are, quick, enough, for, my, phone, note, 3, have, had, no, issues, thus, far]</td>\n",
       "      <td>[great, price, delivered, to, my, front, door, what, more, could, you, ask, for, access, speeds, are, quick, enough, for, my, phone, note, 3, have, had, no, issues, thus, far]</td>\n",
       "    </tr>\n",
       "    <tr>\n",
       "      <th>603</th>\n",
       "      <td>does very good..... holds a lot of songs......</td>\n",
       "      <td>[does, very, good, holds, a, lot, of, songs]</td>\n",
       "      <td>[does, very, good, holds, a, lot, of, songs]</td>\n",
       "    </tr>\n",
       "    <tr>\n",
       "      <th>1302</th>\n",
       "      <td>I bought a new phone and got this chip because it was the largest the phone would accept.  I keep a lot of pictures on it.  100% satisfied.</td>\n",
       "      <td>[i, bought, a, new, phone, and, got, this, chip, because, it, was, the, largest, the, phone, would, accept, i, keep, a, lot, of, pictures, on, it, 100, satisfied]</td>\n",
       "      <td>[i, bought, a, new, phone, and, got, this, chip, because, it, was, the, largest, the, phone, would, accept, i, keep, a, lot, of, pictures, on, it, 100, satisfied]</td>\n",
       "    </tr>\n",
       "  </tbody>\n",
       "</table>\n",
       "</div>"
      ],
      "text/plain": [
       "                                                                                                                                                  reviewText  \\\n",
       "2997  Great price delivered to my front door what more could you ask for. Access speeds are quick enough for my phone (note 3), have had no issues thus far.   \n",
       "603                                                                                                           does very good..... holds a lot of songs......   \n",
       "1302             I bought a new phone and got this chip because it was the largest the phone would accept.  I keep a lot of pictures on it.  100% satisfied.   \n",
       "\n",
       "                                                                                                                                                                        casual_tokens  \\\n",
       "2997  [great, price, delivered, to, my, front, door, what, more, could, you, ask, for, access, speeds, are, quick, enough, for, my, phone, note, 3, have, had, no, issues, thus, far]   \n",
       "603                                                                                                                                      [does, very, good, holds, a, lot, of, songs]   \n",
       "1302               [i, bought, a, new, phone, and, got, this, chip, because, it, was, the, largest, the, phone, would, accept, i, keep, a, lot, of, pictures, on, it, 100, satisfied]   \n",
       "\n",
       "                                                                                                                                                                            tb_tokens  \n",
       "2997  [great, price, delivered, to, my, front, door, what, more, could, you, ask, for, access, speeds, are, quick, enough, for, my, phone, note, 3, have, had, no, issues, thus, far]  \n",
       "603                                                                                                                                      [does, very, good, holds, a, lot, of, songs]  \n",
       "1302               [i, bought, a, new, phone, and, got, this, chip, because, it, was, the, largest, the, phone, would, accept, i, keep, a, lot, of, pictures, on, it, 100, satisfied]  "
      ]
     },
     "execution_count": 27,
     "metadata": {},
     "output_type": "execute_result"
    }
   ],
   "source": [
    "reviews[['reviewText','casual_tokens','tb_tokens']].sample(3)"
   ]
  },
  {
   "cell_type": "markdown",
   "id": "ee82746a-5a5a-4f0d-a7c3-8c26a3de56d2",
   "metadata": {},
   "source": [
    "## Stemming"
   ]
  },
  {
   "cell_type": "code",
   "execution_count": 28,
   "id": "3e42dfd2-0dac-4dc9-99c2-5e7b2f961982",
   "metadata": {},
   "outputs": [],
   "source": [
    "from nltk.stem.porter import PorterStemmer"
   ]
  },
  {
   "cell_type": "code",
   "execution_count": 29,
   "id": "a30012d4-73e7-427c-824e-23c1be446618",
   "metadata": {},
   "outputs": [],
   "source": [
    "stemmer = PorterStemmer()"
   ]
  },
  {
   "cell_type": "code",
   "execution_count": 30,
   "id": "6d49b74f-d4c7-40ca-bdf8-a38205359ede",
   "metadata": {},
   "outputs": [],
   "source": [
    "reviews['tokens_stemmed'] = reviews['tb_tokens'].apply(lambda words: [stemmer.stem(w) for w in words])"
   ]
  },
  {
   "cell_type": "code",
   "execution_count": 32,
   "id": "99ff8f4d-728d-460e-bb30-1ce19f58620e",
   "metadata": {},
   "outputs": [
    {
     "data": {
      "text/html": [
       "<div>\n",
       "<style scoped>\n",
       "    .dataframe tbody tr th:only-of-type {\n",
       "        vertical-align: middle;\n",
       "    }\n",
       "\n",
       "    .dataframe tbody tr th {\n",
       "        vertical-align: top;\n",
       "    }\n",
       "\n",
       "    .dataframe thead th {\n",
       "        text-align: right;\n",
       "    }\n",
       "</style>\n",
       "<table border=\"1\" class=\"dataframe\">\n",
       "  <thead>\n",
       "    <tr style=\"text-align: right;\">\n",
       "      <th></th>\n",
       "      <th>tb_tokens</th>\n",
       "      <th>tokens_stemmed</th>\n",
       "    </tr>\n",
       "  </thead>\n",
       "  <tbody>\n",
       "    <tr>\n",
       "      <th>358</th>\n",
       "      <td>[i, do, not, get, the, advertised, speed, of, 30mbs, more, like, a, 200300kbs, on, my, galaxy, s4, at, least, it, gives, me, a, lot, of, extra, storage, space, for, a, phone, it, works, nicely, if, you, dont, need, to, transfer, big, files]</td>\n",
       "      <td>[i, do, not, get, the, advertis, speed, of, 30mb, more, like, a, 200300kb, on, my, galaxi, s4, at, least, it, give, me, a, lot, of, extra, storag, space, for, a, phone, it, work, nice, if, you, dont, need, to, transfer, big, file]</td>\n",
       "    </tr>\n",
       "    <tr>\n",
       "      <th>1002</th>\n",
       "      <td>[gets, the, job, done, for, my, gopro, so, thats, good, i, just, never, liked, how, small, the, actual, card, is, due, to, its, nature, of, it, might, just, get, lostthen, thats, game, over, the, price, was, amazing, so, i, got, two, for, the, price, of, half, of, one]</td>\n",
       "      <td>[get, the, job, done, for, my, gopro, so, that, good, i, just, never, like, how, small, the, actual, card, is, due, to, it, natur, of, it, might, just, get, lostthen, that, game, over, the, price, wa, amaz, so, i, got, two, for, the, price, of, half, of, one]</td>\n",
       "    </tr>\n",
       "    <tr>\n",
       "      <th>4646</th>\n",
       "      <td>[fast, and, holds, all, my, music, and, larger, apps]</td>\n",
       "      <td>[fast, and, hold, all, my, music, and, larger, app]</td>\n",
       "    </tr>\n",
       "  </tbody>\n",
       "</table>\n",
       "</div>"
      ],
      "text/plain": [
       "                                                                                                                                                                                                                                                                          tb_tokens  \\\n",
       "358                                [i, do, not, get, the, advertised, speed, of, 30mbs, more, like, a, 200300kbs, on, my, galaxy, s4, at, least, it, gives, me, a, lot, of, extra, storage, space, for, a, phone, it, works, nicely, if, you, dont, need, to, transfer, big, files]   \n",
       "1002  [gets, the, job, done, for, my, gopro, so, thats, good, i, just, never, liked, how, small, the, actual, card, is, due, to, its, nature, of, it, might, just, get, lostthen, thats, game, over, the, price, was, amazing, so, i, got, two, for, the, price, of, half, of, one]   \n",
       "4646                                                                                                                                                                                                                          [fast, and, holds, all, my, music, and, larger, apps]   \n",
       "\n",
       "                                                                                                                                                                                                                                                           tokens_stemmed  \n",
       "358                                [i, do, not, get, the, advertis, speed, of, 30mb, more, like, a, 200300kb, on, my, galaxi, s4, at, least, it, give, me, a, lot, of, extra, storag, space, for, a, phone, it, work, nice, if, you, dont, need, to, transfer, big, file]  \n",
       "1002  [get, the, job, done, for, my, gopro, so, that, good, i, just, never, like, how, small, the, actual, card, is, due, to, it, natur, of, it, might, just, get, lostthen, that, game, over, the, price, wa, amaz, so, i, got, two, for, the, price, of, half, of, one]  \n",
       "4646                                                                                                                                                                                                                  [fast, and, hold, all, my, music, and, larger, app]  "
      ]
     },
     "execution_count": 32,
     "metadata": {},
     "output_type": "execute_result"
    }
   ],
   "source": [
    "reviews[['tb_tokens','tokens_stemmed']].sample(3)"
   ]
  },
  {
   "cell_type": "markdown",
   "id": "eba0c96b-1011-423f-9e81-f8e10e550b33",
   "metadata": {},
   "source": [
    "## Lemmatisation"
   ]
  },
  {
   "cell_type": "code",
   "execution_count": 35,
   "id": "9050a116-3854-4507-809d-6568b5304850",
   "metadata": {},
   "outputs": [],
   "source": [
    "import nltk\n",
    "from nltk.stem import WordNetLemmatizer\n",
    "from nltk.corpus import wordnet as wn\n",
    "from nltk.corpus import sentiwordnet as swn\n",
    "from nltk import sent_tokenize, word_tokenize, pos_tag"
   ]
  },
  {
   "cell_type": "code",
   "execution_count": 36,
   "id": "a14ce9e3-e301-4b2e-86c4-6cb080c2853e",
   "metadata": {},
   "outputs": [],
   "source": [
    "def penn_to_wn(tag):\n",
    "    \"\"\"\n",
    "        Convert between the PennTreebank tags to simple Wordnet tags\n",
    "    \"\"\"\n",
    "    if tag.startswith('J'):\n",
    "        return wn.ADJ\n",
    "    elif tag.startswith('N'):\n",
    "        return wn.NOUN\n",
    "    elif tag.startswith('R'):\n",
    "        return wn.ADV\n",
    "    elif tag.startswith('V'):\n",
    "        return wn.VERB\n",
    "    return None"
   ]
  },
  {
   "cell_type": "code",
   "execution_count": 37,
   "id": "efb1e790-30d2-4c7a-b229-2c4011987e66",
   "metadata": {},
   "outputs": [],
   "source": [
    "lemmatizer = WordNetLemmatizer()\n",
    "def get_lemas(tokens):\n",
    "    lemmas = []\n",
    "    for token in tokens:\n",
    "        pos = penn_to_wn(pos_tag([token])[0][1])\n",
    "        if pos:\n",
    "            lemma = lemmatizer.lemmatize(token, pos)\n",
    "            if lemma:\n",
    "                lemmas.append(lemma)\n",
    "    return lemmas"
   ]
  },
  {
   "cell_type": "code",
   "execution_count": null,
   "id": "4361c267-cda5-4ee4-ab30-c67de71007a5",
   "metadata": {},
   "outputs": [],
   "source": [
    "reviews['lemmas'] = reviews['tb_tokens'].apply(lambda tokens: get_lemas(tokens))"
   ]
  },
  {
   "cell_type": "code",
   "execution_count": 44,
   "id": "7dfce523-191c-4f9a-a295-81acad39f1f7",
   "metadata": {},
   "outputs": [
    {
     "data": {
      "text/html": [
       "<div>\n",
       "<style scoped>\n",
       "    .dataframe tbody tr th:only-of-type {\n",
       "        vertical-align: middle;\n",
       "    }\n",
       "\n",
       "    .dataframe tbody tr th {\n",
       "        vertical-align: top;\n",
       "    }\n",
       "\n",
       "    .dataframe thead th {\n",
       "        text-align: right;\n",
       "    }\n",
       "</style>\n",
       "<table border=\"1\" class=\"dataframe\">\n",
       "  <thead>\n",
       "    <tr style=\"text-align: right;\">\n",
       "      <th></th>\n",
       "      <th>reviewText</th>\n",
       "      <th>tokens_stemmed</th>\n",
       "      <th>lemmas</th>\n",
       "    </tr>\n",
       "  </thead>\n",
       "  <tbody>\n",
       "    <tr>\n",
       "      <th>1240</th>\n",
       "      <td>I bought this card when I got my Note 2 back in October, it is perfect and fast.  No problems in any way and fully compatible with my device.UPDATE 1/15/14: I bought a second card for my Note 3 and it it excellent.  The frustration free packaging was much appreciated from the other packing last year.  My first original card got corrupted when I put it in an old feature phone but I am confident it had nothing to do with the card in any way.  I have tested these cards with the Galaxy Note 2, Note 3, Note 10.1 2014 and Tab 3 7\" and they all read the card no problem.  I have been extremely satisfied so far.</td>\n",
       "      <td>[i, bought, thi, card, when, i, got, my, note, 2, back, in, octob, it, is, perfect, and, fast, no, problem, in, ani, way, and, fulli, compat, with, my, deviceupd, 11514, i, bought, a, second, card, for, my, note, 3, and, it, it, excel, the, frustrat, free, packag, wa, much, appreci, from, the, other, pack, last, year, my, first, origin, card, got, corrupt, when, i, put, it, in, an, old, featur, phone, but, i, am, confid, it, had, noth, to, do, with, the, card, in, ani, way, i, have, test, these, card, with, the, galaxi, note, 2, note, 3, note, 101, ...]</td>\n",
       "      <td>[i, bought, card, i, get, note, back, october, be, perfect, fast, problem, way, fully, compatible, deviceupdate, i, bought, second, card, note, excellent, frustration, free, packaging, be, much, appreciate, other, pack, last, year, first, original, card, get, corrupt, i, put, old, feature, phone, i, be, confident, have, nothing, do, card, way, i, have, test, card, galaxy, note, note, note, tab, read, card, problem, i, have, be, extremely, satisfied, so, far]</td>\n",
       "    </tr>\n",
       "    <tr>\n",
       "      <th>4068</th>\n",
       "      <td>Had this item for a week or so now and it seems to be working fine. I haven't put it through any kind of stress or anything, just stuck it in my phone and let it do it's thing. So far, so good.</td>\n",
       "      <td>[had, thi, item, for, a, week, or, so, now, and, it, seem, to, be, work, fine, i, havent, put, it, through, ani, kind, of, stress, or, anyth, just, stuck, it, in, my, phone, and, let, it, do, it, thing, so, far, so, good]</td>\n",
       "      <td>[have, item, week, so, now, seem, be, work, fine, i, havent, put, kind, stress, anything, just, stuck, phone, let, do, thing, so, far, so, good]</td>\n",
       "    </tr>\n",
       "  </tbody>\n",
       "</table>\n",
       "</div>"
      ],
      "text/plain": [
       "                                                                                                                                                                                                                                                                                                                                                                                                                                                                                                                                                                                                                              reviewText  \\\n",
       "1240  I bought this card when I got my Note 2 back in October, it is perfect and fast.  No problems in any way and fully compatible with my device.UPDATE 1/15/14: I bought a second card for my Note 3 and it it excellent.  The frustration free packaging was much appreciated from the other packing last year.  My first original card got corrupted when I put it in an old feature phone but I am confident it had nothing to do with the card in any way.  I have tested these cards with the Galaxy Note 2, Note 3, Note 10.1 2014 and Tab 3 7\" and they all read the card no problem.  I have been extremely satisfied so far.   \n",
       "4068                                                                                                                                                                                                                                                                                                                                                                                                                                   Had this item for a week or so now and it seems to be working fine. I haven't put it through any kind of stress or anything, just stuck it in my phone and let it do it's thing. So far, so good.   \n",
       "\n",
       "                                                                                                                                                                                                                                                                                                                                                                                                                                                                                                                                                                       tokens_stemmed  \\\n",
       "1240  [i, bought, thi, card, when, i, got, my, note, 2, back, in, octob, it, is, perfect, and, fast, no, problem, in, ani, way, and, fulli, compat, with, my, deviceupd, 11514, i, bought, a, second, card, for, my, note, 3, and, it, it, excel, the, frustrat, free, packag, wa, much, appreci, from, the, other, pack, last, year, my, first, origin, card, got, corrupt, when, i, put, it, in, an, old, featur, phone, but, i, am, confid, it, had, noth, to, do, with, the, card, in, ani, way, i, have, test, these, card, with, the, galaxi, note, 2, note, 3, note, 101, ...]   \n",
       "4068                                                                                                                                                                                                                                                                                                                                                    [had, thi, item, for, a, week, or, so, now, and, it, seem, to, be, work, fine, i, havent, put, it, through, ani, kind, of, stress, or, anyth, just, stuck, it, in, my, phone, and, let, it, do, it, thing, so, far, so, good]   \n",
       "\n",
       "                                                                                                                                                                                                                                                                                                                                                                                                                                                                              lemmas  \n",
       "1240  [i, bought, card, i, get, note, back, october, be, perfect, fast, problem, way, fully, compatible, deviceupdate, i, bought, second, card, note, excellent, frustration, free, packaging, be, much, appreciate, other, pack, last, year, first, original, card, get, corrupt, i, put, old, feature, phone, i, be, confident, have, nothing, do, card, way, i, have, test, card, galaxy, note, note, note, tab, read, card, problem, i, have, be, extremely, satisfied, so, far]  \n",
       "4068                                                                                                                                                                                                                                                                                                                                [have, item, week, so, now, seem, be, work, fine, i, havent, put, kind, stress, anything, just, stuck, phone, let, do, thing, so, far, so, good]  "
      ]
     },
     "execution_count": 44,
     "metadata": {},
     "output_type": "execute_result"
    }
   ],
   "source": [
    "reviews[['reviewText','tokens_stemmed','lemmas']].sample(2)"
   ]
  },
  {
   "cell_type": "markdown",
   "id": "2b1df1c5-dc36-42bf-9805-b4af6fcbeb5b",
   "metadata": {},
   "source": [
    "\n",
    "\n",
    "\n",
    "\n",
    "## Sentiment Predictor Baseline Model"
   ]
  },
  {
   "cell_type": "code",
   "execution_count": 40,
   "id": "aad4875f-c623-4ef0-b8da-862a2202eed8",
   "metadata": {},
   "outputs": [],
   "source": [
    "def get_sentiment_score(tokens):\n",
    "    score = 0\n",
    "    tags = pos_tag(tokens)\n",
    "    for word, tag in tags:\n",
    "        wn_tag = penn_to_wn(tag)\n",
    "        if not wn_tag:\n",
    "            continue\n",
    "        synsets = wn.synsets(word, pos=wn_tag)\n",
    "        if not synsets:\n",
    "            continue\n",
    "        \n",
    "        #most common set:\n",
    "        synset = synsets[0]\n",
    "        swn_synset = swn.senti_synset(synset.name())\n",
    "        \n",
    "        score += (swn_synset.pos_score() - swn_synset.neg_score())\n",
    "        \n",
    "    return score"
   ]
  },
  {
   "cell_type": "code",
   "execution_count": 47,
   "id": "133a08ce-81bb-4bec-b2c9-60aef6151dc0",
   "metadata": {},
   "outputs": [
    {
     "data": {
      "text/plain": [
       "0.875"
      ]
     },
     "execution_count": 47,
     "metadata": {},
     "output_type": "execute_result"
    }
   ],
   "source": [
    "swn.senti_synset(wn.synsets(\"awesome\", wn.ADJ)[0].name()).pos_score()"
   ]
  },
  {
   "cell_type": "code",
   "execution_count": 50,
   "id": "ade5260a-d514-43d9-8575-3e89a5845ea8",
   "metadata": {},
   "outputs": [],
   "source": [
    "reviews['sentiment_score'] = reviews['lemmas'].apply(lambda tokens: get_sentiment_score(tokens))"
   ]
  },
  {
   "cell_type": "code",
   "execution_count": 51,
   "id": "884aca06-a448-4993-9fcf-02149b521eec",
   "metadata": {},
   "outputs": [
    {
     "data": {
      "text/html": [
       "<div>\n",
       "<style scoped>\n",
       "    .dataframe tbody tr th:only-of-type {\n",
       "        vertical-align: middle;\n",
       "    }\n",
       "\n",
       "    .dataframe tbody tr th {\n",
       "        vertical-align: top;\n",
       "    }\n",
       "\n",
       "    .dataframe thead th {\n",
       "        text-align: right;\n",
       "    }\n",
       "</style>\n",
       "<table border=\"1\" class=\"dataframe\">\n",
       "  <thead>\n",
       "    <tr style=\"text-align: right;\">\n",
       "      <th></th>\n",
       "      <th>reviewText</th>\n",
       "      <th>lemmas</th>\n",
       "      <th>sentiment_score</th>\n",
       "    </tr>\n",
       "  </thead>\n",
       "  <tbody>\n",
       "    <tr>\n",
       "      <th>4439</th>\n",
       "      <td>I own the Samsung Galaxy Note 2 smartphone- and besides having a user-replaceable battery, this device also allows the user to pop in a Micro SD card.  More is better, too much is almost enough... and hence the 64-GB model, which permits storing insane numbers of songs on your phone-- in my case, over 7000!  (Three of the songs are great, 2 are OK, and the rest?  Not so good!)  Seriously- this is a 'must own' if your smart phone is not made by Apple!  If you own the iPhone, not so great, there are no user-accessible batteries or Micro SD cards in iPhones.  If you own Android- well, life will be considerably brighter once you pop this in, which took all of like 30 seconds.  You do not need to format it unless you wish to erase what you've already put on it.  Highly recommend - SanDisk is a trusted provider of flash memory devices, and buying from Amazon.com is a no-brainer.</td>\n",
       "      <td>[i, own, samsung, galaxy, note, smartphone, have, userreplaceable, battery, device, also, allows, user, pop, micro, sd, card, more, be, well, too, much, be, almost, enough, hence, model, permit, store, insane, number, song, phone, case, song, be, great, be, ok, rest, not, so, good, seriously, be, own, smart, phone, be, not, make, apple, own, iphone, not, so, great, there, be, useraccessible, battery, micro, sd, card, iphones, own, android, well, life, be, considerably, brighter, once, pop, take, second, do, not, need, format, wish, erase, youve, already, put, highly, recommend, sandisk, be, trust, provider, flash, memory, device, buying, amazoncom, be, nobrainer]</td>\n",
       "      <td>1.875</td>\n",
       "    </tr>\n",
       "    <tr>\n",
       "      <th>1491</th>\n",
       "      <td>I big problem I have been having lately is finding a trustworthy source for SD cards. They are manufactured in China and these rip off companies are selling fake cards at a competitive price, but don't be fooled. If the price seems unbelievable that is because you will end up with a card that is not only less capacity then you are paying for, but a lower class and sometimes a faulty card altogether.When it comes to storage, pay the extra cash to get something reliable. Like this SanDisk Ultra 64 GB SDXC Class 10 memory card. It is blazaing fast and works well in my HTC EVO LTE Android phone.Side note: This card brings my total phone storage capacity to 158 GB. That is 158 GB that I have full access to. 85 GB of which is synced to the cloud.</td>\n",
       "      <td>[i, big, problem, i, have, be, have, lately, be, find, trustworthy, source, sd, card, be, manufacture, china, rip, company, be, sell, fake, card, competitive, price, dont, be, fool, price, seem, unbelievable, be, end, up, card, be, not, only, less, capacity, then, be, pay, low, class, sometimes, faulty, card, altogetherwhen, come, storage, pay, extra, cash, get, something, reliable, sandisk, ultra, gb, sdxc, class, memory, card, be, blazaing, fast, work, well, htc, evo, lte, android, phoneside, note, card, brings, total, phone, storage, capacity, gb, be, gb, i, have, full, access, gb, be, sync, cloud]</td>\n",
       "      <td>0.750</td>\n",
       "    </tr>\n",
       "    <tr>\n",
       "      <th>1602</th>\n",
       "      <td>Bought This For My Samsung Galaxy S3Load It Up With Music And It Works FlawlesslyI'm Very Satisfied With This Card</td>\n",
       "      <td>[bought, samsung, galaxy, s3load, up, music, work, flawlesslyim, very, satisfied, card]</td>\n",
       "      <td>0.375</td>\n",
       "    </tr>\n",
       "    <tr>\n",
       "      <th>1029</th>\n",
       "      <td>Bought it for my Galaxy S5. Dumped 32g of music on it and so far so good. It's nice to have plenty of storage.</td>\n",
       "      <td>[bought, galaxy, s5, dumped, music, so, far, so, good, nice, have, plenty, storage]</td>\n",
       "      <td>1.000</td>\n",
       "    </tr>\n",
       "    <tr>\n",
       "      <th>1180</th>\n",
       "      <td>I purchased this for a Galaxy Tab 10.1 but didn't like it - I returned the tablet (and accidently left the memory card in it).  So this is the second one I've purchased, it is now in use in an ASUS T1000 tablet/notebook and I am entirely satisfied.</td>\n",
       "      <td>[i, purchase, galaxy, tab, didnt, i, return, tablet, accidently, left, memory, card, so, be, second, ive, purchase, be, now, use, asus, t1000, tabletnotebook, i, be, entirely, satisfied]</td>\n",
       "      <td>0.875</td>\n",
       "    </tr>\n",
       "  </tbody>\n",
       "</table>\n",
       "</div>"
      ],
      "text/plain": [
       "                                                                                                                                                                                                                                                                                                                                                                                                                                                                                                                                                                                                                                                                                                                                                                                                                                                                                                                 reviewText  \\\n",
       "4439  I own the Samsung Galaxy Note 2 smartphone- and besides having a user-replaceable battery, this device also allows the user to pop in a Micro SD card.  More is better, too much is almost enough... and hence the 64-GB model, which permits storing insane numbers of songs on your phone-- in my case, over 7000!  (Three of the songs are great, 2 are OK, and the rest?  Not so good!)  Seriously- this is a 'must own' if your smart phone is not made by Apple!  If you own the iPhone, not so great, there are no user-accessible batteries or Micro SD cards in iPhones.  If you own Android- well, life will be considerably brighter once you pop this in, which took all of like 30 seconds.  You do not need to format it unless you wish to erase what you've already put on it.  Highly recommend - SanDisk is a trusted provider of flash memory devices, and buying from Amazon.com is a no-brainer.   \n",
       "1491                                                                                                                                         I big problem I have been having lately is finding a trustworthy source for SD cards. They are manufactured in China and these rip off companies are selling fake cards at a competitive price, but don't be fooled. If the price seems unbelievable that is because you will end up with a card that is not only less capacity then you are paying for, but a lower class and sometimes a faulty card altogether.When it comes to storage, pay the extra cash to get something reliable. Like this SanDisk Ultra 64 GB SDXC Class 10 memory card. It is blazaing fast and works well in my HTC EVO LTE Android phone.Side note: This card brings my total phone storage capacity to 158 GB. That is 158 GB that I have full access to. 85 GB of which is synced to the cloud.   \n",
       "1602                                                                                                                                                                                                                                                                                                                                                                                                                                                                                                                                                                                                                                                                                                                                                                                                     Bought This For My Samsung Galaxy S3Load It Up With Music And It Works FlawlesslyI'm Very Satisfied With This Card   \n",
       "1029                                                                                                                                                                                                                                                                                                                                                                                                                                                                                                                                                                                                                                                                                                                                                                                                         Bought it for my Galaxy S5. Dumped 32g of music on it and so far so good. It's nice to have plenty of storage.   \n",
       "1180                                                                                                                                                                                                                                                                                                                                                                                                                                                                                                                                                                                                                                                               I purchased this for a Galaxy Tab 10.1 but didn't like it - I returned the tablet (and accidently left the memory card in it).  So this is the second one I've purchased, it is now in use in an ASUS T1000 tablet/notebook and I am entirely satisfied.   \n",
       "\n",
       "                                                                                                                                                                                                                                                                                                                                                                                                                                                                                                                                                                                                                                                                                               lemmas  \\\n",
       "4439  [i, own, samsung, galaxy, note, smartphone, have, userreplaceable, battery, device, also, allows, user, pop, micro, sd, card, more, be, well, too, much, be, almost, enough, hence, model, permit, store, insane, number, song, phone, case, song, be, great, be, ok, rest, not, so, good, seriously, be, own, smart, phone, be, not, make, apple, own, iphone, not, so, great, there, be, useraccessible, battery, micro, sd, card, iphones, own, android, well, life, be, considerably, brighter, once, pop, take, second, do, not, need, format, wish, erase, youve, already, put, highly, recommend, sandisk, be, trust, provider, flash, memory, device, buying, amazoncom, be, nobrainer]   \n",
       "1491                                                                 [i, big, problem, i, have, be, have, lately, be, find, trustworthy, source, sd, card, be, manufacture, china, rip, company, be, sell, fake, card, competitive, price, dont, be, fool, price, seem, unbelievable, be, end, up, card, be, not, only, less, capacity, then, be, pay, low, class, sometimes, faulty, card, altogetherwhen, come, storage, pay, extra, cash, get, something, reliable, sandisk, ultra, gb, sdxc, class, memory, card, be, blazaing, fast, work, well, htc, evo, lte, android, phoneside, note, card, brings, total, phone, storage, capacity, gb, be, gb, i, have, full, access, gb, be, sync, cloud]   \n",
       "1602                                                                                                                                                                                                                                                                                                                                                                                                                                                                                                                                                                                                          [bought, samsung, galaxy, s3load, up, music, work, flawlesslyim, very, satisfied, card]   \n",
       "1029                                                                                                                                                                                                                                                                                                                                                                                                                                                                                                                                                                                                              [bought, galaxy, s5, dumped, music, so, far, so, good, nice, have, plenty, storage]   \n",
       "1180                                                                                                                                                                                                                                                                                                                                                                                                                                                                                                       [i, purchase, galaxy, tab, didnt, i, return, tablet, accidently, left, memory, card, so, be, second, ive, purchase, be, now, use, asus, t1000, tabletnotebook, i, be, entirely, satisfied]   \n",
       "\n",
       "      sentiment_score  \n",
       "4439            1.875  \n",
       "1491            0.750  \n",
       "1602            0.375  \n",
       "1029            1.000  \n",
       "1180            0.875  "
      ]
     },
     "execution_count": 51,
     "metadata": {},
     "output_type": "execute_result"
    }
   ],
   "source": [
    "reviews[['reviewText','lemmas','sentiment_score']].sample(5)"
   ]
  },
  {
   "cell_type": "code",
   "execution_count": 52,
   "id": "0650231a-e6c6-4cbb-a034-2db19528b490",
   "metadata": {},
   "outputs": [
    {
     "data": {
      "text/html": [
       "<div>\n",
       "<style scoped>\n",
       "    .dataframe tbody tr th:only-of-type {\n",
       "        vertical-align: middle;\n",
       "    }\n",
       "\n",
       "    .dataframe tbody tr th {\n",
       "        vertical-align: top;\n",
       "    }\n",
       "\n",
       "    .dataframe thead th {\n",
       "        text-align: right;\n",
       "    }\n",
       "</style>\n",
       "<table border=\"1\" class=\"dataframe\">\n",
       "  <thead>\n",
       "    <tr style=\"text-align: right;\">\n",
       "      <th></th>\n",
       "      <th>reviewText</th>\n",
       "      <th>lemmas</th>\n",
       "      <th>sentiment_score</th>\n",
       "    </tr>\n",
       "  </thead>\n",
       "  <tbody>\n",
       "    <tr>\n",
       "      <th>3389</th>\n",
       "      <td>I purchased this as a recommendation to use with a LS300W dashcam.  Like most dashcams, there is constant high definition writing to the SD card because of needed looping.  This works as expected.  Reliable and fast.</td>\n",
       "      <td>[i, purchase, recommendation, use, ls300w, dashcam, most, dashcams, there, be, constant, high, definition, write, sd, card, need, loop, work, expect, reliable, fast]</td>\n",
       "      <td>0.750</td>\n",
       "    </tr>\n",
       "    <tr>\n",
       "      <th>110</th>\n",
       "      <td>Great for adding a ton of storage to your smartphone or other device.  Fast enough for most needs and the price is right.</td>\n",
       "      <td>[great, add, ton, storage, smartphone, other, device, fast, enough, most, need, price, be, right]</td>\n",
       "      <td>-0.375</td>\n",
       "    </tr>\n",
       "    <tr>\n",
       "      <th>1740</th>\n",
       "      <td>This is a great up grade for me. I use it for my tablet and it gives me lots of extra storage. I would recommend to anyone.</td>\n",
       "      <td>[be, great, up, grade, i, use, tablet, give, lot, extra, storage, i, recommend, anyone]</td>\n",
       "      <td>-0.625</td>\n",
       "    </tr>\n",
       "    <tr>\n",
       "      <th>4030</th>\n",
       "      <td>Already bought this one last may but you can't beat the new price. Original Sandisk products never failed me before. Just be careful where to buy.</td>\n",
       "      <td>[already, bought, last, cant, beat, new, price, original, sandisk, product, never, fail, just, be, careful, buy]</td>\n",
       "      <td>0.250</td>\n",
       "    </tr>\n",
       "    <tr>\n",
       "      <th>3811</th>\n",
       "      <td>I ordered the regular packaging after reading the frustration-free packaging is sometimes counterfeit.  Anyway, the 32GB card I received was formatted as FAT32, and it seemed to work just fine in my new Moto G LTE phone running Android 4.4.3.  Moved apps onto the card, put some music on it.  Works great, no complaints.</td>\n",
       "      <td>[i, order, regular, packaging, reading, frustrationfree, packaging, be, sometimes, counterfeit, anyway, card, i, receive, be, format, fat32, seem, work, just, fine, new, moto, g, lte, phone, run, android, move, apps, card, put, music, work, great, complaint]</td>\n",
       "      <td>0.388</td>\n",
       "    </tr>\n",
       "  </tbody>\n",
       "</table>\n",
       "</div>"
      ],
      "text/plain": [
       "                                                                                                                                                                                                                                                                                                                            reviewText  \\\n",
       "3389                                                                                                          I purchased this as a recommendation to use with a LS300W dashcam.  Like most dashcams, there is constant high definition writing to the SD card because of needed looping.  This works as expected.  Reliable and fast.   \n",
       "110                                                                                                                                                                                                          Great for adding a ton of storage to your smartphone or other device.  Fast enough for most needs and the price is right.   \n",
       "1740                                                                                                                                                                                                       This is a great up grade for me. I use it for my tablet and it gives me lots of extra storage. I would recommend to anyone.   \n",
       "4030                                                                                                                                                                                Already bought this one last may but you can't beat the new price. Original Sandisk products never failed me before. Just be careful where to buy.   \n",
       "3811  I ordered the regular packaging after reading the frustration-free packaging is sometimes counterfeit.  Anyway, the 32GB card I received was formatted as FAT32, and it seemed to work just fine in my new Moto G LTE phone running Android 4.4.3.  Moved apps onto the card, put some music on it.  Works great, no complaints.   \n",
       "\n",
       "                                                                                                                                                                                                                                                                  lemmas  \\\n",
       "3389                                                                                               [i, purchase, recommendation, use, ls300w, dashcam, most, dashcams, there, be, constant, high, definition, write, sd, card, need, loop, work, expect, reliable, fast]   \n",
       "110                                                                                                                                                                    [great, add, ton, storage, smartphone, other, device, fast, enough, most, need, price, be, right]   \n",
       "1740                                                                                                                                                                             [be, great, up, grade, i, use, tablet, give, lot, extra, storage, i, recommend, anyone]   \n",
       "4030                                                                                                                                                    [already, bought, last, cant, beat, new, price, original, sandisk, product, never, fail, just, be, careful, buy]   \n",
       "3811  [i, order, regular, packaging, reading, frustrationfree, packaging, be, sometimes, counterfeit, anyway, card, i, receive, be, format, fat32, seem, work, just, fine, new, moto, g, lte, phone, run, android, move, apps, card, put, music, work, great, complaint]   \n",
       "\n",
       "      sentiment_score  \n",
       "3389            0.750  \n",
       "110            -0.375  \n",
       "1740           -0.625  \n",
       "4030            0.250  \n",
       "3811            0.388  "
      ]
     },
     "execution_count": 52,
     "metadata": {},
     "output_type": "execute_result"
    }
   ],
   "source": [
    "reviews[['reviewText','lemmas','sentiment_score']].sample(5)"
   ]
  },
  {
   "cell_type": "code",
   "execution_count": null,
   "id": "e208a21a-1e45-432a-8148-ca735c0d8f18",
   "metadata": {},
   "outputs": [],
   "source": []
  }
 ],
 "metadata": {
  "kernelspec": {
   "display_name": "Python 3 (ipykernel)",
   "language": "python",
   "name": "python3"
  },
  "language_info": {
   "codemirror_mode": {
    "name": "ipython",
    "version": 3
   },
   "file_extension": ".py",
   "mimetype": "text/x-python",
   "name": "python",
   "nbconvert_exporter": "python",
   "pygments_lexer": "ipython3",
   "version": "3.10.9"
  }
 },
 "nbformat": 4,
 "nbformat_minor": 5
}
